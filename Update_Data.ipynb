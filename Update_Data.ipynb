{
 "cells": [
  {
   "cell_type": "code",
   "execution_count": null,
   "id": "6b206c92",
   "metadata": {},
   "outputs": [],
   "source": [
    "import pandas as pd\n",
    "import numpy as np\n",
    "from datetime import datetime\n",
    "import logging\n",
    "\n",
    "logging.basicConfig(filename='log.log', filemode='a', format='%(asctime)s - %(name)s - %(levelname)s - %(message)s')\n",
    "pd.set_option('display.max_columns', None)\n"
   ]
  },
  {
   "cell_type": "code",
   "execution_count": null,
   "id": "ed959944",
   "metadata": {},
   "outputs": [],
   "source": [
    "def popZeroID(row):\n",
    "    x = row['TitleID'].split(\".\")\n",
    "    return(x[0])\n",
    "\n",
    "def popZeroDate(row):\n",
    "    x = row['YearMonth'].split(\".\")\n",
    "    return(x[0])\n",
    "\n",
    "def splitYear(row):\n",
    "    year = row['YearMonth'][:4]\n",
    "    month = row['YearMonth'][4:6]\n",
    "    monthyear = '{}/{}'.format(month, year)\n",
    "    return(monthyear)\n"
   ]
  },
  {
   "cell_type": "code",
   "execution_count": null,
   "id": "dff3ce62",
   "metadata": {},
   "outputs": [],
   "source": [
    "\n",
    "# Read in new Print and ER sales\n",
    "PRH_new = pd.read_excel(open('data_update/{}.xlsx'.format(new_pe_data), 'rb'),\n",
    "              sheet_name='PRH_Jan-Feb') \n",
    "\n",
    "# Read in new EL sales\n",
    "thirdPartyTransacations_new = pd.read_excel(open('data_update/{}'.format(new_el_file), 'rb'),\n",
    "              sheet_name='3rdPartyEbookUpdates') \n"
   ]
  },
  {
   "cell_type": "code",
   "execution_count": null,
   "id": "8eb78e47",
   "metadata": {},
   "outputs": [],
   "source": [
    "# # Convert Title ID and ISBN to string for existing data\n",
    "existing_data['TitleID'] = existing_data['TitleID'].astype(str)\n",
    "existing_data['ISBN'] = existing_data['ISBN'].astype(str)\n"
   ]
  },
  {
   "cell_type": "code",
   "execution_count": null,
   "id": "e6f507e2",
   "metadata": {},
   "outputs": [],
   "source": [
    "# Combine all new sales into a single DF\n",
    "new_data = pd.concat([PRH_new, thirdPartyTransacations_new])\n",
    "\n",
    "# We need to remove Gratis copies from the sales data\n",
    "new_data_clean = (new_data[ 'revenuetype' ] != 'Gratis copies')\n",
    "new_data = new_data[new_data_clean]\n",
    "\n",
    "# Convert date into date format\n",
    "# Drop any empty rows, convert 'TitleID' and 'PRINT isbn' to a string.\n",
    "# Group everything by 'ISBN', 'TitleID', and 'Date (month)'\n",
    "# Rename Print isbn as just 'isbn', which we need to do in order to merge print and electronic sales\n",
    "new_data.rename(columns={'date': 'Date', 'unitssold': 'Units Sold', 'saleprice': 'Dom. Sale Price', 'actualamount': 'Amount Sold', 'isbn': 'ISBN'}, inplace=True)\n",
    "\n",
    "new_data['Date'] = pd.to_datetime(new_data.Date)\n",
    "new_data['Date'] = new_data['Date'].dt.strftime('%m/%Y')\n",
    "\n",
    "new_data.dropna(how=\"all\", inplace=True)\n",
    "new_data['TitleID'] = new_data['TitleID'].astype(str)\n",
    "new_data['ISBN'] = new_data['ISBN'].astype(str)\n",
    "\n"
   ]
  },
  {
   "cell_type": "code",
   "execution_count": null,
   "id": "cc0682c3",
   "metadata": {},
   "outputs": [],
   "source": [
    "# Divide up print and e sales\n",
    "print_sales = new_data[new_data['revenuetype'] != 'Electronic']\n",
    "print_sales = print_sales.groupby(['TitleID', 'ISBN', 'Date']).sum()\n",
    "print_sales.reset_index(inplace=True)\n",
    "print_sales['Format'] = 'Print'\n",
    "print_sales\n",
    "\n",
    "er_sales = new_data[new_data['revenuetype'] == 'Electronic']\n",
    "er_sales = er_sales.groupby(['TitleID', 'ISBN', 'Date']).sum()\n",
    "er_sales.reset_index(inplace=True)\n",
    "er_sales['TitleID'] = er_sales.apply(popZeroID, axis=1)\n",
    "er_sales['Format'] = 'Electronic'"
   ]
  },
  {
   "cell_type": "code",
   "execution_count": null,
   "id": "f2faeecb",
   "metadata": {},
   "outputs": [],
   "source": [
    "# Merge print and electronic sales\n",
    "merged_sales = pd.concat([existing_data,er_sales,print_sales])\n",
    "merged_sales = merged_sales[['TitleID', 'ISBN', 'Date', 'Units Sold', 'Amount Sold', 'Format']]"
   ]
  },
  {
   "cell_type": "code",
   "execution_count": null,
   "id": "6b3f6d4d",
   "metadata": {},
   "outputs": [],
   "source": [
    "merged_sales.to_csv('data_update/merged_sales_update.csv', index=None)"
   ]
  },
  {
   "cell_type": "code",
   "execution_count": null,
   "id": "6e93ffa6",
   "metadata": {},
   "outputs": [],
   "source": [
    "# Read usage. Drop rows missing 'Container_OnlineIdentifier'. Convert 'Container_OnlineIdentifier' to string.\n",
    "# Rename 'Container_OnlineIdentifier' as 'isbn'\n",
    "# The file you should download from PowerBI is 'MITPB_All_BOOKS_DATA_REPORT'\n",
    "# You have to download two versions: one with chapter downloads and one with monthly downloads. Trying to export all at once is too large. \n",
    "\n",
    "book_downloads = pd.read_excel(open('data_update/all_direct_book_downloads.xlsx', 'rb'),\n",
    "              sheet_name='Export') \n",
    "book_downloads.dropna(subset=['Container_OnlineIdentifier'], inplace=True)\n",
    "book_downloads['Container_OnlineIdentifier'] = book_downloads['Container_OnlineIdentifier'].astype(str)\n",
    "book_downloads.rename(columns={'Container_ExternalIdentifier': 'TitleID', 'Container_OnlineIdentifier': 'isbn'}, inplace=True)\n",
    "\n",
    "# Convert 'YearMonth' to string, run 'YearMonth' through popZeroDate() to remove decmial and add 'Date_Formatted'\n",
    "# Change 'Date_Formatted' colume into mm/YY (i.e. 04/2019)\n",
    "book_downloads['TitleID'] = book_downloads['TitleID'].astype(str)\n",
    "book_downloads['YearMonth'] = book_downloads['YearMonth'].astype(str)\n",
    "book_downloads['isbn'] = book_downloads.apply(popZeroISBN, axis=1)\n",
    "book_downloads['TitleID'] = book_downloads.apply(popZeroID, axis=1)\n",
    "book_downloads['date'] = book_downloads.apply(splitYear, axis=1)\n",
    "book_downloads['date'] = pd.to_datetime(book_downloads['date'])\n",
    "book_downloads['date'] = book_downloads['date'].dt.strftime('%m/%Y')\n",
    "\n",
    "# Rename tnhecolumnsto match sales. Reformat TitleID. Add 'Format' column and populateitwith'Downloads' \n",
    "book_downloads['Format'] = 'Downloads'\n",
    "book_downloads.to_csv('data_output/book_downloads.csv', index=None)\n",
    "book_downloads\n"
   ]
  },
  {
   "cell_type": "code",
   "execution_count": null,
   "id": "c18c637f",
   "metadata": {},
   "outputs": [],
   "source": [
    "\n",
    "chapter_downloads = pd.read_excel(open('data_update/all_direct_chapter_downloads.xlsx', 'rb'),\n",
    "              sheet_name='Export') \n",
    "chapter_downloads.dropna(subset=['Container_OnlineIdentifier'], inplace=True)\n",
    "chapter_downloads['Container_OnlineIdentifier'] = chapter_downloads['Container_OnlineIdentifier'].astype(str)\n",
    "chapter_downloads.rename(columns={'Container_ExternalIdentifier': 'TitleID', 'Container_OnlineIdentifier': 'isbn'}, inplace=True)\n",
    "\n",
    "# Convert 'YearMonth' to string, run 'YearMonth' through popZeroDate() to remove decmial and add 'Date_Formatted'\n",
    "# Change 'Date_Formatted' colume into mm/YY (i.e. 04/2019)\n",
    "chapter_downloads['TitleID'] = chapter_downloads['TitleID'].astype(str)\n",
    "chapter_downloads['isbn'] = chapter_downloads.apply(popZeroISBN, axis=1)\n",
    "chapter_downloads['TitleID'] = chapter_downloads.apply(popZeroID, axis=1)\n",
    "\n",
    "\n",
    "# Rename tnhecolumnsto match sales. Reformat TitleID. Add 'Format' column and populateitwith'Downloads' \n",
    "chapter_downloads['Format'] = 'Downloads'\n",
    "chapter_downloads.to_csv('data_output/chapter_downloads.csv', index=None)\n",
    "chapter_downloads\n",
    "\n",
    "chapter_downloads.to_csv('data_output/chapter_downloads.csv', index=None)\n"
   ]
  }
 ],
 "metadata": {
  "kernelspec": {
   "display_name": "Python 3 (ipykernel)",
   "language": "python",
   "name": "python3"
  },
  "language_info": {
   "codemirror_mode": {
    "name": "ipython",
    "version": 3
   },
   "file_extension": ".py",
   "mimetype": "text/x-python",
   "name": "python",
   "nbconvert_exporter": "python",
   "pygments_lexer": "ipython3",
   "version": "3.9.8"
  }
 },
 "nbformat": 4,
 "nbformat_minor": 5
}
