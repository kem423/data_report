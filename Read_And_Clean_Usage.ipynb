{
 "cells": [
  {
   "cell_type": "code",
   "execution_count": null,
   "id": "4b6e5748",
   "metadata": {},
   "outputs": [],
   "source": [
    "import pandas as pd\n",
    "import numpy as np\n",
    "from datetime import datetime\n",
    "import logging\n",
    "\n",
    "logging.basicConfig(filename='log.log', filemode='a', format='%(asctime)s - %(name)s - %(levelname)s - %(message)s')\n",
    "pd.set_option('display.max_columns', None)\n"
   ]
  },
  {
   "cell_type": "code",
   "execution_count": null,
   "id": "dfa5f655",
   "metadata": {},
   "outputs": [],
   "source": [
    "def popZeroID(row):\n",
    "    x = row['TitleID'].split(\".\")\n",
    "    return(x[0])\n",
    "\n",
    "def popZeroDate(row):\n",
    "    x = row['YearMonth'].split(\".\")\n",
    "    return(x[0])\n"
   ]
  },
  {
   "cell_type": "code",
   "execution_count": null,
   "id": "ee37cb43",
   "metadata": {},
   "outputs": [],
   "source": [
    "# Read usage. Drop rows missing 'Container_OnlineIdentifier'. Convert 'Container_OnlineIdentifier' to string.\n",
    "# Rename 'Container_OnlineIdentifier' as 'isbn'\n",
    "# The file you should download from PowerBI is 'MITPB_All_BOOKS_DATA_REPORT'\n",
    "# You have to download two versions: one with chapter downloads and one with monthly downloads. Trying to export all at once is too large. \n",
    "\n",
    "book_downloads = pd.read_excel(open('data_update/all_direct_book_downloads.xlsx', 'rb'),\n",
    "              sheet_name='Export') \n",
    "book_downloads.dropna(subset=['Container_OnlineIdentifier'], inplace=True)\n",
    "book_downloads['Container_OnlineIdentifier'] = book_downloads['Container_OnlineIdentifier'].astype(str)\n",
    "book_downloads.rename(columns={'Container_ExternalIdentifier': 'TitleID', 'Container_OnlineIdentifier': 'isbn'}, inplace=True)\n",
    "\n",
    "# Convert 'YearMonth' to string, run 'YearMonth' through popZeroDate() to remove decmial and add 'Date_Formatted'\n",
    "# Change 'Date_Formatted' colume into mm/YY (i.e. 04/2019)\n",
    "book_downloads['TitleID'] = book_downloads['TitleID'].astype(str)\n",
    "book_downloads['YearMonth'] = book_downloads['YearMonth'].astype(str)\n",
    "book_downloads['isbn'] = book_downloads.apply(popZeroISBN, axis=1)\n",
    "book_downloads['TitleID'] = book_downloads.apply(popZeroID, axis=1)\n",
    "book_downloads['date'] = book_downloads.apply(splitYear, axis=1)\n",
    "book_downloads['date'] = pd.to_datetime(book_downloads['date'])\n",
    "book_downloads['date'] = book_downloads['date'].dt.strftime('%m/%Y')\n",
    "\n",
    "# Rename columns to match sales. Reformat TitleID. Add 'Format' column and populateit with'Downloads' \n",
    "book_downloads['Format'] = 'Downloads'\n",
    "book_downloads.to_csv('data_output/book_downloads.csv', index=None)\n",
    "book_downloads\n"
   ]
  },
  {
   "cell_type": "code",
   "execution_count": null,
   "id": "7b2dbac6",
   "metadata": {},
   "outputs": [],
   "source": [
    "\n",
    "chapter_downloads = pd.read_excel(open('data_update/all_direct_chapter_downloads.xlsx', 'rb'),\n",
    "              sheet_name='Export') \n",
    "chapter_downloads.dropna(subset=['Container_OnlineIdentifier'], inplace=True)\n",
    "chapter_downloads['Container_OnlineIdentifier'] = chapter_downloads['Container_OnlineIdentifier'].astype(str)\n",
    "chapter_downloads.rename(columns={'Container_ExternalIdentifier': 'TitleID', 'Container_OnlineIdentifier': 'isbn'}, inplace=True)\n",
    "\n",
    "# Convert 'YearMonth' to string, run 'YearMonth' through popZeroDate() to remove decmial and add 'Date_Formatted'\n",
    "# Change 'Date_Formatted' colume into mm/YY (i.e. 04/2019)\n",
    "chapter_downloads['TitleID'] = chapter_downloads['TitleID'].astype(str)\n",
    "chapter_downloads['isbn'] = chapter_downloads.apply(popZeroISBN, axis=1)\n",
    "chapter_downloads['TitleID'] = chapter_downloads.apply(popZeroID, axis=1)\n",
    "\n",
    "\n",
    "# Rename tnhecolumnsto match sales. Reformat TitleID. Add 'Format' column and populateitwith'Downloads' \n",
    "chapter_downloads['Format'] = 'Downloads'\n",
    "chapter_downloads.to_csv('data_output/chapter_downloads.csv', index=None)\n",
    "chapter_downloads\n",
    "\n",
    "chapter_downloads.to_csv('data_output/chapter_downloads.csv', index=None)\n"
   ]
  },
  {
   "cell_type": "markdown",
   "id": "c7380073",
   "metadata": {},
   "source": [
    "Load and clean citation data"
   ]
  },
  {
   "cell_type": "code",
   "execution_count": null,
   "id": "ba7bcc83",
   "metadata": {},
   "outputs": [],
   "source": [
    "# We need the book ID to join it with the sales data.\n",
    "# Fortunatly we can gather that from the DOI. \n",
    "dimensions = pd.read_csv('data_input/{}'.format(diensions_data_file))\n",
    "dimensions[\"IDTitle\"] = dimensions.apply(splitCitations, axis=1)\n",
    "dimensions.to_csv('data_output/dimensions_data.csv', index=None)\n",
    "\n"
   ]
  }
 ],
 "metadata": {
  "kernelspec": {
   "display_name": "Python 3 (ipykernel)",
   "language": "python",
   "name": "python3"
  },
  "language_info": {
   "codemirror_mode": {
    "name": "ipython",
    "version": 3
   },
   "file_extension": ".py",
   "mimetype": "text/x-python",
   "name": "python",
   "nbconvert_exporter": "python",
   "pygments_lexer": "ipython3",
   "version": "3.9.8"
  }
 },
 "nbformat": 4,
 "nbformat_minor": 5
}
